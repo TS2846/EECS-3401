{
 "cells": [
  {
   "cell_type": "markdown",
   "id": "0098cecc-90f9-40c0-b460-e505d26459b7",
   "metadata": {
    "tags": []
   },
   "source": [
    "EECS 3401 Assignment 2\n",
    "Tom Sun"
   ]
  },
  {
   "cell_type": "markdown",
   "id": "fe27a837-3ca8-4182-b706-2a08f5b7b2f4",
   "metadata": {},
   "source": [
    "Task 1: Import the adult dataset from the ucimlrepo."
   ]
  },
  {
   "cell_type": "code",
   "execution_count": 37,
   "id": "6f9c9e88-7372-469b-9944-8d2838b433e3",
   "metadata": {
    "tags": []
   },
   "outputs": [],
   "source": [
    "from ucimlrepo import fetch_ucirepo \n",
    "import pandas as pd\n",
    "import numpy as np\n",
    "import sklearn\n",
    "import matplotlib.pyplot as plt\n",
    "from sklearn.datasets import make_classification\n",
    "from sklearn.metrics import confusion_matrix, ConfusionMatrixDisplay\n",
    "from sklearn.compose import ColumnTransformer\n",
    "from sklearn.pipeline import Pipeline\n",
    "from sklearn.pipeline import make_pipeline\n",
    "from sklearn.impute import SimpleImputer\n",
    "from sklearn.preprocessing import OneHotEncoder\n",
    "from sklearn.preprocessing import StandardScaler\n",
    "from sklearn.model_selection import train_test_split\n",
    "from sklearn.svm import SVC\n",
    "from sklearn.metrics import classification_report\n",
    "from sklearn.model_selection import GridSearchCV"
   ]
  },
  {
   "cell_type": "code",
   "execution_count": 2,
   "id": "b233db12-78c6-44ba-b14c-5781bade0264",
   "metadata": {
    "tags": []
   },
   "outputs": [],
   "source": [
    "# fetch dataset \n",
    "adult = fetch_ucirepo(id=2) \n",
    "  \n",
    "# data (as pandas dataframes) \n",
    "X = adult.data.features \n",
    "y = adult.data.targets "
   ]
  },
  {
   "cell_type": "markdown",
   "id": "4cac9336-7d0e-48a8-a8f0-d9105de1138d",
   "metadata": {},
   "source": [
    "Task 2: Take a quick look at the data structure"
   ]
  },
  {
   "cell_type": "code",
   "execution_count": 3,
   "id": "8251a0c6-9880-4e52-80de-86275f4841f0",
   "metadata": {
    "tags": []
   },
   "outputs": [
    {
     "name": "stdout",
     "output_type": "stream",
     "text": [
      "   age         workclass  fnlwgt  education  education-num  \\\n",
      "0   39         State-gov   77516  Bachelors             13   \n",
      "1   50  Self-emp-not-inc   83311  Bachelors             13   \n",
      "2   38           Private  215646    HS-grad              9   \n",
      "3   53           Private  234721       11th              7   \n",
      "4   28           Private  338409  Bachelors             13   \n",
      "\n",
      "       marital-status         occupation   relationship   race     sex  \\\n",
      "0       Never-married       Adm-clerical  Not-in-family  White    Male   \n",
      "1  Married-civ-spouse    Exec-managerial        Husband  White    Male   \n",
      "2            Divorced  Handlers-cleaners  Not-in-family  White    Male   \n",
      "3  Married-civ-spouse  Handlers-cleaners        Husband  Black    Male   \n",
      "4  Married-civ-spouse     Prof-specialty           Wife  Black  Female   \n",
      "\n",
      "   capital-gain  capital-loss  hours-per-week native-country  \n",
      "0          2174             0              40  United-States  \n",
      "1             0             0              13  United-States  \n",
      "2             0             0              40  United-States  \n",
      "3             0             0              40  United-States  \n",
      "4             0             0              40           Cuba  \n"
     ]
    }
   ],
   "source": [
    "print(X.head())"
   ]
  },
  {
   "cell_type": "code",
   "execution_count": 4,
   "id": "dbf948bd-3679-41af-94cd-d14108b7af74",
   "metadata": {
    "tags": []
   },
   "outputs": [
    {
     "name": "stdout",
     "output_type": "stream",
     "text": [
      "<class 'pandas.core.frame.DataFrame'>\n",
      "RangeIndex: 48842 entries, 0 to 48841\n",
      "Data columns (total 14 columns):\n",
      " #   Column          Non-Null Count  Dtype \n",
      "---  ------          --------------  ----- \n",
      " 0   age             48842 non-null  int64 \n",
      " 1   workclass       47879 non-null  object\n",
      " 2   fnlwgt          48842 non-null  int64 \n",
      " 3   education       48842 non-null  object\n",
      " 4   education-num   48842 non-null  int64 \n",
      " 5   marital-status  48842 non-null  object\n",
      " 6   occupation      47876 non-null  object\n",
      " 7   relationship    48842 non-null  object\n",
      " 8   race            48842 non-null  object\n",
      " 9   sex             48842 non-null  object\n",
      " 10  capital-gain    48842 non-null  int64 \n",
      " 11  capital-loss    48842 non-null  int64 \n",
      " 12  hours-per-week  48842 non-null  int64 \n",
      " 13  native-country  48568 non-null  object\n",
      "dtypes: int64(6), object(8)\n",
      "memory usage: 5.2+ MB\n",
      "None\n"
     ]
    }
   ],
   "source": [
    "print(X.info())"
   ]
  },
  {
   "cell_type": "code",
   "execution_count": 5,
   "id": "6d9e5b93-d948-4a3f-9f9c-5830600950c0",
   "metadata": {
    "tags": []
   },
   "outputs": [
    {
     "name": "stdout",
     "output_type": "stream",
     "text": [
      "                age        fnlwgt  education-num  capital-gain  capital-loss  \\\n",
      "count  48842.000000  4.884200e+04   48842.000000  48842.000000  48842.000000   \n",
      "mean      38.643585  1.896641e+05      10.078089   1079.067626     87.502314   \n",
      "std       13.710510  1.056040e+05       2.570973   7452.019058    403.004552   \n",
      "min       17.000000  1.228500e+04       1.000000      0.000000      0.000000   \n",
      "25%       28.000000  1.175505e+05       9.000000      0.000000      0.000000   \n",
      "50%       37.000000  1.781445e+05      10.000000      0.000000      0.000000   \n",
      "75%       48.000000  2.376420e+05      12.000000      0.000000      0.000000   \n",
      "max       90.000000  1.490400e+06      16.000000  99999.000000   4356.000000   \n",
      "\n",
      "       hours-per-week  \n",
      "count    48842.000000  \n",
      "mean        40.422382  \n",
      "std         12.391444  \n",
      "min          1.000000  \n",
      "25%         40.000000  \n",
      "50%         40.000000  \n",
      "75%         45.000000  \n",
      "max         99.000000  \n"
     ]
    }
   ],
   "source": [
    "print(X.describe())"
   ]
  },
  {
   "cell_type": "code",
   "execution_count": 6,
   "id": "ac32d8c7-39cc-4650-bf44-d91e4681d61f",
   "metadata": {
    "tags": []
   },
   "outputs": [
    {
     "name": "stdout",
     "output_type": "stream",
     "text": [
      "(48842, 14)\n"
     ]
    }
   ],
   "source": [
    "print(X.shape)"
   ]
  },
  {
   "cell_type": "markdown",
   "id": "9894c150-c512-4bc9-9013-ae2be97daf7c",
   "metadata": {},
   "source": [
    "Task 3: There are missing values in this dataset that are entered as ?, check for the number of these missing values."
   ]
  },
  {
   "cell_type": "code",
   "execution_count": 7,
   "id": "d7607c45-5cf9-41a0-b26e-2267dfc5b10d",
   "metadata": {
    "tags": []
   },
   "outputs": [
    {
     "data": {
      "text/plain": [
       "age                  0\n",
       "workclass         1836\n",
       "fnlwgt               0\n",
       "education            0\n",
       "education-num        0\n",
       "marital-status       0\n",
       "occupation        1843\n",
       "relationship         0\n",
       "race                 0\n",
       "sex                  0\n",
       "capital-gain         0\n",
       "capital-loss         0\n",
       "hours-per-week       0\n",
       "native-country     583\n",
       "dtype: int64"
      ]
     },
     "execution_count": 7,
     "metadata": {},
     "output_type": "execute_result"
    }
   ],
   "source": [
    "(X==\"?\").sum()"
   ]
  },
  {
   "cell_type": "markdown",
   "id": "90dfeb33-a349-482f-aa7a-f36b702f498b",
   "metadata": {},
   "source": [
    "Task 4: Replace the missing values you found in the previous step with null (nan)."
   ]
  },
  {
   "cell_type": "code",
   "execution_count": 8,
   "id": "1f3013b2-292e-48d4-978c-e2a65ecca3a8",
   "metadata": {
    "tags": []
   },
   "outputs": [
    {
     "name": "stdout",
     "output_type": "stream",
     "text": [
      "<class 'pandas.core.frame.DataFrame'>\n",
      "RangeIndex: 48842 entries, 0 to 48841\n",
      "Data columns (total 14 columns):\n",
      " #   Column          Non-Null Count  Dtype \n",
      "---  ------          --------------  ----- \n",
      " 0   age             48842 non-null  int64 \n",
      " 1   workclass       46043 non-null  object\n",
      " 2   fnlwgt          48842 non-null  int64 \n",
      " 3   education       48842 non-null  object\n",
      " 4   education-num   48842 non-null  int64 \n",
      " 5   marital-status  48842 non-null  object\n",
      " 6   occupation      46033 non-null  object\n",
      " 7   relationship    48842 non-null  object\n",
      " 8   race            48842 non-null  object\n",
      " 9   sex             48842 non-null  object\n",
      " 10  capital-gain    48842 non-null  int64 \n",
      " 11  capital-loss    48842 non-null  int64 \n",
      " 12  hours-per-week  48842 non-null  int64 \n",
      " 13  native-country  47985 non-null  object\n",
      "dtypes: int64(6), object(8)\n",
      "memory usage: 5.2+ MB\n"
     ]
    }
   ],
   "source": [
    "X = X.replace(\"?\", np.nan)\n",
    "X.info()"
   ]
  },
  {
   "cell_type": "markdown",
   "id": "5cf1e7d9-c8a8-48b0-a69b-a598c863ee3b",
   "metadata": {},
   "source": [
    "Task 5: Create and apply a preprocessing pipeline"
   ]
  },
  {
   "cell_type": "code",
   "execution_count": 9,
   "id": "144a0dd9-6544-49b8-9a63-6f144c8bcb1d",
   "metadata": {
    "tags": []
   },
   "outputs": [],
   "source": [
    "# separate numerical and categorical\n",
    "num_vals = X.select_dtypes(include='number').columns\n",
    "cat_vals = X.select_dtypes(exclude='number').columns"
   ]
  },
  {
   "cell_type": "code",
   "execution_count": 10,
   "id": "ff4e0d9e-0ab5-4f95-94a3-3cf830c5105a",
   "metadata": {
    "tags": []
   },
   "outputs": [],
   "source": [
    "# make 2 pipelines\n",
    "num_pipeline = Pipeline([\n",
    "    ('imputer', SimpleImputer(strategy='mean')),\n",
    "    ('scaler', StandardScaler())\n",
    "])\n",
    "\n",
    "cat_pipeline = Pipeline([\n",
    "    ('imputer', SimpleImputer(strategy='most_frequent')),\n",
    "    ('encoder', OneHotEncoder(sparse_output=False))\n",
    "])"
   ]
  },
  {
   "cell_type": "code",
   "execution_count": 11,
   "id": "30e6a858-fed0-430c-9b40-0297fb85648d",
   "metadata": {
    "tags": []
   },
   "outputs": [
    {
     "data": {
      "text/plain": [
       "(48842, 105)"
      ]
     },
     "execution_count": 11,
     "metadata": {},
     "output_type": "execute_result"
    }
   ],
   "source": [
    "# combine the 2 pipelines\n",
    "final_pipe = ColumnTransformer([\n",
    "    ('numerical', num_pipeline, num_vals),\n",
    "    ('categorical', cat_pipeline, cat_vals),\n",
    "])\n",
    "X_prepared = final_pipe.fit_transform(X)\n",
    "X_prepared.shape"
   ]
  },
  {
   "cell_type": "markdown",
   "id": "21fcc8ac-c79f-4545-837c-d8610dc67b96",
   "metadata": {},
   "source": [
    "Task 6: Check the target value_counts."
   ]
  },
  {
   "cell_type": "code",
   "execution_count": 12,
   "id": "63a3b048-d4f3-4c7f-90d6-77ea3ff08610",
   "metadata": {},
   "outputs": [
    {
     "data": {
      "text/plain": [
       "<bound method DataFrame.value_counts of        income\n",
       "0       <=50K\n",
       "1       <=50K\n",
       "2       <=50K\n",
       "3       <=50K\n",
       "4       <=50K\n",
       "...       ...\n",
       "48837  <=50K.\n",
       "48838  <=50K.\n",
       "48839  <=50K.\n",
       "48840  <=50K.\n",
       "48841   >50K.\n",
       "\n",
       "[48842 rows x 1 columns]>"
      ]
     },
     "execution_count": 12,
     "metadata": {},
     "output_type": "execute_result"
    }
   ],
   "source": [
    "y.value_counts"
   ]
  },
  {
   "cell_type": "markdown",
   "id": "449b6021-f752-4721-9a79-59f5cd8da050",
   "metadata": {},
   "source": [
    "Task 7: Remove the period at the end of the >50K. and <=50K. i.e., replace all instances that are <=50K. with <=50K , and replace all the instances that are >50K. with >50K"
   ]
  },
  {
   "cell_type": "code",
   "execution_count": 13,
   "id": "06551950-0fe6-476a-96aa-59f795637a3a",
   "metadata": {
    "tags": []
   },
   "outputs": [
    {
     "data": {
      "text/plain": [
       "<bound method DataFrame.value_counts of       income\n",
       "0      <=50K\n",
       "1      <=50K\n",
       "2      <=50K\n",
       "3      <=50K\n",
       "4      <=50K\n",
       "...      ...\n",
       "48837  <=50K\n",
       "48838  <=50K\n",
       "48839  <=50K\n",
       "48840  <=50K\n",
       "48841   >50K\n",
       "\n",
       "[48842 rows x 1 columns]>"
      ]
     },
     "execution_count": 13,
     "metadata": {},
     "output_type": "execute_result"
    }
   ],
   "source": [
    "y = y.replace('>50K.', '>50K')\n",
    "y = y.replace('<=50K.', '<=50K')\n",
    "y.value_counts"
   ]
  },
  {
   "cell_type": "markdown",
   "id": "2ce8dac3-0dd8-4ee3-9351-1bcd20460958",
   "metadata": {},
   "source": [
    "Task 8: Split the data into 80% training set and 20% testing set, print the shape of X_train, X_test, y_train, y_test in one command."
   ]
  },
  {
   "cell_type": "code",
   "execution_count": 19,
   "id": "3c4b8147-d03d-49db-8650-5b61c2a5e9ce",
   "metadata": {
    "tags": []
   },
   "outputs": [
    {
     "name": "stdout",
     "output_type": "stream",
     "text": [
      "(39073, 105) (9769, 105) (39073, 1) (9769, 1)\n"
     ]
    }
   ],
   "source": [
    "X_train, X_test, y_train, y_test = train_test_split(X_prepared, y, test_size=0.2)\n",
    "print(X_train.shape, X_test.shape, y_train.shape, y_test.shape)"
   ]
  },
  {
   "cell_type": "markdown",
   "id": "1561d737-1f71-4094-930a-a25b98d0c6ea",
   "metadata": {},
   "source": [
    "Task 9: Train a svm model (svc) to predict if the income of the adult exceeds 50K on the training set"
   ]
  },
  {
   "cell_type": "code",
   "execution_count": 27,
   "id": "93bc5239-c491-439e-92c5-6e149fef4a1a",
   "metadata": {
    "tags": []
   },
   "outputs": [],
   "source": [
    "model_svm = SVC(kernel='poly', C=0.1, gamma=1)\n",
    "model_svm.fit(X_train[:10000], y_train[:10000].values.ravel())\n",
    "y_predict = model_svm.predict(X_test)"
   ]
  },
  {
   "cell_type": "code",
   "execution_count": 28,
   "id": "354c2571-2639-4873-ae48-8bfb4feb9f82",
   "metadata": {
    "tags": []
   },
   "outputs": [
    {
     "name": "stdout",
     "output_type": "stream",
     "text": [
      "              precision    recall  f1-score   support\n",
      "\n",
      "       <=50K       0.87      0.89      0.88      7443\n",
      "        >50K       0.63      0.58      0.60      2326\n",
      "\n",
      "    accuracy                           0.82      9769\n",
      "   macro avg       0.75      0.74      0.74      9769\n",
      "weighted avg       0.81      0.82      0.82      9769\n",
      "\n"
     ]
    }
   ],
   "source": [
    "print(classification_report(y_test, y_predict))"
   ]
  },
  {
   "cell_type": "code",
   "execution_count": 31,
   "id": "e7c7161c-9b9b-4323-9986-5015c68652a7",
   "metadata": {
    "tags": []
   },
   "outputs": [
    {
     "data": {
      "text/plain": [
       "<sklearn.metrics._plot.confusion_matrix.ConfusionMatrixDisplay at 0x2723a3b7b50>"
      ]
     },
     "execution_count": 31,
     "metadata": {},
     "output_type": "execute_result"
    },
    {
     "data": {
      "image/png": "[encoded data removed]",
      "text/plain": [
       "<Figure size 640x480 with 2 Axes>"
      ]
     },
     "metadata": {},
     "output_type": "display_data"
    }
   ],
   "source": [
    "ConfusionMatrixDisplay.from_predictions(y_test, y_predict)"
   ]
  },
  {
   "cell_type": "markdown",
   "id": "768d7368-ef8e-4c2e-b4ff-84a82ade8499",
   "metadata": {},
   "source": [
    "Task 10: Use GridSearchCV to find the best value of kernel, gamma, and C."
   ]
  },
  {
   "cell_type": "code",
   "execution_count": 36,
   "id": "0239aa92-af59-43b5-86e2-8a46da50b6d0",
   "metadata": {
    "tags": []
   },
   "outputs": [
    {
     "name": "stdout",
     "output_type": "stream",
     "text": [
      "(29305, 105) (29305, 1) (9768, 105) (9768, 1) (9769, 105) (9769, 1)\n"
     ]
    }
   ],
   "source": [
    "# split dataset \n",
    "X_train, X_validation_test, y_train, y_validation_test = train_test_split(X_prepared, y, test_size=0.4, random_state=42)\n",
    "X_validation, X_test, y_validation, y_test, = train_test_split(X_validation_test, y_validation_test, test_size=0.5, random_state=42)\n",
    "print(X_train.shape, y_train.shape, X_validation.shape, y_validation.shape, X_test.shape, y_test.shape)"
   ]
  },
  {
   "cell_type": "code",
   "execution_count": 40,
   "id": "260a73d4-7666-46fb-9285-e920c3219fdf",
   "metadata": {
    "tags": []
   },
   "outputs": [
    {
     "data": {
      "text/plain": [
       "0.8472563472563472"
      ]
     },
     "execution_count": 40,
     "metadata": {},
     "output_type": "execute_result"
    }
   ],
   "source": [
    "# pass in hyperparameters\n",
    "svm_parameters = {'kernel': ['rbf'],\n",
    "                    'C': [0.01, 0.1, 1, 10],\n",
    "                    'gamma': [0.01, 1, 10]\n",
    "                 }\n",
    "svm = SVC() \n",
    "svm_gs = GridSearchCV(estimator = svm, param_grid = svm_parameters)\n",
    "svm_gs.fit(X_train[:10000], y_train[:10000].values.ravel())\n",
    "svm_winner = svm_gs.best_estimator_\n",
    "svm_winner.score(X_validation, y_validation)"
   ]
  }
 ],
 "metadata": {
  "kernelspec": {
   "display_name": "Python 3 (ipykernel)",
   "language": "python",
   "name": "python3"
  },
  "language_info": {
   "codemirror_mode": {
    "name": "ipython",
    "version": 3
   },
   "file_extension": ".py",
   "mimetype": "text/x-python",
   "name": "python",
   "nbconvert_exporter": "python",
   "pygments_lexer": "ipython3",
   "version": "3.9.17"
  }
 },
 "nbformat": 4,
 "nbformat_minor": 5
}
